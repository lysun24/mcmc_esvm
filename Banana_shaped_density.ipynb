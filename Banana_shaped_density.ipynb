{
 "cells": [
  {
   "cell_type": "code",
   "execution_count": 23,
   "metadata": {},
   "outputs": [],
   "source": [
    "import numpy as np\n",
    "import scipy.stats as spstats\n",
    "from scipy import signal\n",
    "import pickle\n",
    "from multiprocessing import Pool\n",
    "import multiprocessing\n",
    "import scipy.sparse as sparse\n",
    "import seaborn as sns\n",
    "\n",
    "from potentials import GaussPotential,GaussMixture,GausMixtureIdent,GausMixtureSame,potentialRegression,BananaShape\n",
    "from baselines import GenerateSigma,construct_ESVM_kernel,set_function\n",
    "from optimize import Run_eval_test,optimize_parallel_new \n",
    "from samplers import MCMC_sampler,Generate_train\n",
    "from utils import *"
   ]
  },
  {
   "cell_type": "code",
   "execution_count": 24,
   "metadata": {},
   "outputs": [],
   "source": [
    "N_b = 1*10**5 # Burn in period\n",
    "N_train = 1*10**6 # Number of samples on which we optimize\n",
    "N_test = 1*10**6 # Number of samples\n",
    "step = 0.2 # Step size\n",
    "n_traj_train = 1\n",
    "n_traj_test = 100 # Number of independent MCMC trajectories for test\n",
    "f_type = \"posterior_mean\""
   ]
  },
  {
   "cell_type": "code",
   "execution_count": 25,
   "metadata": {},
   "outputs": [
    {
     "data": {
      "text/plain": [
       "'\\n%load_ext line_profiler\\n\\n%lprun -f construct_Eric_kernel construct_Eric_kernel(N_train)\\n'"
      ]
     },
     "execution_count": 25,
     "metadata": {},
     "output_type": "execute_result"
    }
   ],
   "source": [
    "\"\"\"\n",
    "%load_ext line_profiler\n",
    "\n",
    "%lprun -f construct_Eric_kernel construct_Eric_kernel(N_train)\n",
    "\"\"\""
   ]
  },
  {
   "cell_type": "markdown",
   "metadata": {},
   "source": [
    "The cell below is to certify the correctness of fft convolutions, add later to test.py"
   ]
  },
  {
   "cell_type": "code",
   "execution_count": 26,
   "metadata": {},
   "outputs": [
    {
     "data": {
      "text/plain": [
       "'\\n#csr matrix\\nW_train_sparse = construct_Eric_kernel_sparse(N_train)\\n#just one column\\nc_fft = construct_Eric_kernel(N_train)\\nprint(c_fft.shape)\\n#time test\\nimport time\\nx = np.random.randn(N_train)\\nprint(x.shape)\\nstart_time = time.time()\\nres_dense = PWP(x,W_train_sparse)\\nprint(\"csr time = \",time.time()-start_time)\\nstart_time = time.time()\\nres_fft = PWP_fast(x,c_fft)\\nprint(\"fft time = \",time.time()-start_time)\\nprint(\"error: \",np.linalg.norm(res_fft - res_dense)/np.linalg.norm(x))\\n'"
      ]
     },
     "execution_count": 26,
     "metadata": {},
     "output_type": "execute_result"
    }
   ],
   "source": [
    "\"\"\"\n",
    "#csr matrix\n",
    "W_train_sparse = construct_Eric_kernel_sparse(N_train)\n",
    "#just one column\n",
    "c_fft = construct_Eric_kernel(N_train)\n",
    "print(c_fft.shape)\n",
    "#time test\n",
    "import time\n",
    "x = np.random.randn(N_train)\n",
    "print(x.shape)\n",
    "start_time = time.time()\n",
    "res_dense = PWP(x,W_train_sparse)\n",
    "print(\"csr time = \",time.time()-start_time)\n",
    "start_time = time.time()\n",
    "res_fft = PWP_fast(x,c_fft)\n",
    "print(\"fft time = \",time.time()-start_time)\n",
    "print(\"error: \",np.linalg.norm(res_fft - res_dense)/np.linalg.norm(x))\n",
    "\"\"\""
   ]
  },
  {
   "cell_type": "code",
   "execution_count": 27,
   "metadata": {},
   "outputs": [],
   "source": [
    "method = {\"sampler\":\"ULA\",\"burn_type\":\"full\",\"main_type\":\"full\"} # Sampling method"
   ]
  },
  {
   "cell_type": "code",
   "execution_count": 28,
   "metadata": {},
   "outputs": [
    {
     "name": "stdout",
     "output_type": "stream",
     "text": [
      "ncores =  12\n"
     ]
    }
   ],
   "source": [
    "B = 0.1\n",
    "M = 100.0\n",
    "d = 2\n",
    "bn = 300\n",
    "W_train_spec = construct_ESVM_kernel(N_train, bn)\n",
    "W_test_spec = construct_ESVM_kernel(N_test, bn)\n",
    "Cur_pot = BananaShape(B,M,d)\n",
    "#sample for variance reduction\n",
    "seed = 777\n",
    "if method[\"sampler\"] == \"ULA\":\n",
    "    res = Generate_train(n_traj_train, method, Cur_pot, step, N_b, N_train, d)\n",
    "    res = np.asarray(res)\n",
    "    traj,traj_grad = res[:,0,:,:],res[:,1,:,:]\n",
    "else:\n",
    "    res = Generate_train(n_traj_train, method, Cur_pot, step, N_b, N_train, d)\n",
    "    traj = []\n",
    "    traj_grad = []\n",
    "    for i in range(len(res)):\n",
    "        traj.append(res[i][0])\n",
    "        traj_grad.append(res[i][1])\n",
    "        print(\"accepted = \",res[i][2])\n",
    "    traj = np.asarray(traj)\n",
    "    traj_grad = np.asarray(traj_grad)"
   ]
  },
  {
   "cell_type": "code",
   "execution_count": 29,
   "metadata": {},
   "outputs": [],
   "source": [
    "if (f_type == \"posterior_mean\"):\n",
    "    inds_arr = np.array([1]) # Taking the second index (not intercept)\n",
    "    params = None\n",
    "else:\n",
    "    params = {\"X\":X_test,\"Y\":Y_test}\n",
    "    inds_arr = np.array([0])\n",
    "    \n",
    "f_vals = set_function(f_type,traj,inds_arr,params)"
   ]
  },
  {
   "cell_type": "code",
   "execution_count": 30,
   "metadata": {},
   "outputs": [],
   "source": [
    "n_restarts = 2 # Number of restarts during optimization\n",
    "sigma = 1 # Deviation of starting points\n",
    "tol = 1e-5 # Tolerance (for the norm of gradient)"
   ]
  },
  {
   "cell_type": "code",
   "execution_count": 31,
   "metadata": {},
   "outputs": [],
   "source": [
    "optim_structure = {\n",
    "    \"W\":W_train_spec,\n",
    "    \"n_restarts\":n_restarts,\n",
    "    \"tol\":tol,\n",
    "    \"sigma\":sigma,\n",
    "    \"alpha\":0.5,\n",
    "    \"beta\":0.5\n",
    "}\n",
    "methods = [\"ESVM\",\"EVM\",\"LS\"]"
   ]
  },
  {
   "cell_type": "code",
   "execution_count": 32,
   "metadata": {},
   "outputs": [
    {
     "name": "stdout",
     "output_type": "stream",
     "text": [
      "3\n"
     ]
    }
   ],
   "source": [
    "result_1 = optimize_parallel_new(1,inds_arr,f_vals,traj,traj_grad,optim_structure,methods)\n",
    "result_2 = optimize_parallel_new(2,inds_arr,f_vals,traj,traj_grad,optim_structure,methods)"
   ]
  },
  {
   "cell_type": "markdown",
   "metadata": {},
   "source": [
    "## Coefficients for control variates"
   ]
  },
  {
   "cell_type": "code",
   "execution_count": 33,
   "metadata": {},
   "outputs": [
    {
     "name": "stdout",
     "output_type": "stream",
     "text": [
      "Coefficients for ESVM\n",
      "[[ 0.59299416 20.36307843]]\n",
      "Coefficients for EVM\n",
      "[[-2.42809964e-04  5.28388550e-01]]\n",
      "Coefficients for LS\n",
      "[[-3.07465696e-05  6.76786534e-01]]\n"
     ]
    }
   ],
   "source": [
    "print(\"Coefficients for ESVM\")\n",
    "print(result_1[\"ESVM\"])\n",
    "print(\"Coefficients for EVM\")\n",
    "print(result_1[\"EVM\"])\n",
    "print(\"Coefficients for LS\")\n",
    "print(result_1[\"LS\"])"
   ]
  },
  {
   "cell_type": "code",
   "execution_count": 34,
   "metadata": {},
   "outputs": [
    {
     "name": "stdout",
     "output_type": "stream",
     "text": [
      "Coefficients for ESVM\n",
      "[[ 5.70913714e-01  1.89550391e+01 -7.17722038e-01  4.09844662e-03\n",
      "   4.09844662e-03 -4.08191408e-01]]\n",
      "Coefficients for EVM\n",
      "[[-1.32463334e-03  4.43417954e+00 -1.01021338e-01 -1.49294064e-05\n",
      "  -1.49294062e-05 -1.60410988e-01]]\n",
      "Coefficients for LS\n",
      "[[-1.08238355e-03  3.27488940e+00 -7.05840149e-02 -3.44206981e-06\n",
      "  -3.44207032e-06 -1.03052239e-01]]\n"
     ]
    }
   ],
   "source": [
    "print(\"Coefficients for ESVM\")\n",
    "print(result_2[\"ESVM\"])\n",
    "print(\"Coefficients for EVM\")\n",
    "print(result_2[\"EVM\"])\n",
    "print(\"Coefficients for LS\")\n",
    "print(result_2[\"LS\"])"
   ]
  },
  {
   "cell_type": "markdown",
   "metadata": {},
   "source": [
    "### Test "
   ]
  },
  {
   "cell_type": "code",
   "execution_count": 36,
   "metadata": {},
   "outputs": [],
   "source": [
    "# Create a dictionary, put respective matrices into it\n",
    "CV_dict = {\"ZAV\":[result_1[\"ESVM\"],result_2[\"ESVM\"]],\"ZV\":[result_1[\"EVM\"],result_2[\"EVM\"]],\"LS\":[result_1[\"LS\"],result_2[\"LS\"]]}\n",
    "# Number of cores exploited for the computation of the independent trajectories\n",
    "# by deault, all available cores on the machine\n",
    "nbcores = multiprocessing.cpu_count()\n",
    "trav = Pool(nbcores)\n",
    "res = trav.starmap(Run_eval_test, [(i,method,inds_arr,Cur_pot,W_test_spec,CV_dict,step,N_b,N_test,d,params,f_type) for i in range (n_traj_test)])\n",
    "trav.close()\n",
    "res_arr = np.asarray(res) # Saving results as np.array"
   ]
  },
  {
   "cell_type": "markdown",
   "metadata": {},
   "source": [
    "### Results"
   ]
  },
  {
   "cell_type": "code",
   "execution_count": 37,
   "metadata": {},
   "outputs": [
    {
     "name": "stdout",
     "output_type": "stream",
     "text": [
      "Estimators\n",
      "Vanilla MC [5.66138318]\n",
      "ESVM pol=1 [5.66551563]\n",
      "ESVM pol=2 [6.59899049]\n",
      "EVM pol=1 [5.66148857]\n",
      "EVM pol=2 [5.82959013]\n",
      "LS pol=1 [5.66148857]\n",
      "LS pol=2 [5.82959013]\n"
     ]
    }
   ],
   "source": [
    "print(\"Estimators\")\n",
    "print(\"Vanilla MC {}\".format(np.mean(res_arr[:,0,0,:],axis=0)))\n",
    "print(\"ESVM pol=1 {}\".format(np.mean(res_arr[:,0,1,:],axis=0)))\n",
    "print(\"ESVM pol=2 {}\".format(np.mean(res_arr[:,0,2,:],axis=0)))\n",
    "print(\"EVM pol=1 {}\".format(np.mean(res_arr[:,0,3,:],axis=0)))\n",
    "print(\"EVM pol=2 {}\".format(np.mean(res_arr[:,0,4,:],axis=0)))\n",
    "print(\"LS pol=1 {}\".format(np.mean(res_arr[:,0,3,:],axis=0)))\n",
    "print(\"LS pol=2 {}\".format(np.mean(res_arr[:,0,4,:],axis=0)))"
   ]
  },
  {
   "cell_type": "code",
   "execution_count": 38,
   "metadata": {},
   "outputs": [
    {
     "name": "stdout",
     "output_type": "stream",
     "text": [
      "Variances\n",
      "Vanilla MC [11218.08266416]\n",
      "ZAV pol=1 [6899.39204054]\n",
      "ZAV pol=2 [1966.19839707]\n",
      "ZV pol=1 [11010.4053913]\n",
      "ZV pol=2 [8339.15427629]\n",
      "LS pol=1 [10952.994274]\n",
      "LS pol=2 [9082.05139818]\n"
     ]
    }
   ],
   "source": [
    "print(\"Variances\")\n",
    "print(\"Vanilla MC {}\".format(np.mean(res_arr[:,1,0,:],axis=0)))\n",
    "print(\"ZAV pol=1 {}\".format(np.mean(res_arr[:,1,1,:],axis=0)))\n",
    "print(\"ZAV pol=2 {}\".format(np.mean(res_arr[:,1,2,:],axis=0)))\n",
    "print(\"ZV pol=1 {}\".format(np.mean(res_arr[:,1,3,:],axis=0)))\n",
    "print(\"ZV pol=2 {}\".format(np.mean(res_arr[:,1,4,:],axis=0)))\n",
    "print(\"LS pol=1 {}\".format(np.mean(res_arr[:,1,5,:],axis=0)))\n",
    "print(\"LS pol=2 {}\".format(np.mean(res_arr[:,1,6,:],axis=0)))"
   ]
  },
  {
   "cell_type": "code",
   "execution_count": 39,
   "metadata": {},
   "outputs": [],
   "source": [
    "np.save(\"Results/Banana_ULA_bn_300_d_2_2.npy\",res_arr)"
   ]
  },
  {
   "cell_type": "markdown",
   "metadata": {},
   "source": [
    "### Plot results"
   ]
  },
  {
   "cell_type": "code",
   "execution_count": 49,
   "metadata": {},
   "outputs": [],
   "source": [
    "import numpy as np\n",
    "res_arr = np.load(\"Results/Banana_ULA_bn_300_d_2_2.npy\")\n",
    "method = 'ULA'"
   ]
  },
  {
   "cell_type": "code",
   "execution_count": 50,
   "metadata": {},
   "outputs": [],
   "source": [
    "var_ind = 0 # Index to plot\n",
    "title = \"\"\n",
    "labels = [f'Vanilla\\n{method}', f'{method}\\nwith EVM',f'{method}\\nwith ESVM']"
   ]
  },
  {
   "cell_type": "code",
   "execution_count": 51,
   "metadata": {},
   "outputs": [
    {
     "data": {
      "image/png": "[encoded data removed]",
      "text/plain": [
       "<Figure size 500x400 with 1 Axes>"
      ]
     },
     "metadata": {},
     "output_type": "display_data"
    }
   ],
   "source": [
    "# Box plot\n",
    "data = [res_arr[:,0,0,var_ind],res_arr[:,0,4,var_ind],res_arr[:,0,2,var_ind]] \n",
    "boxplot_ind(data, title, labels)"
   ]
  },
  {
   "cell_type": "code",
   "execution_count": 48,
   "metadata": {},
   "outputs": [
    {
     "name": "stdout",
     "output_type": "stream",
     "text": [
      "average VRF for 1st order EVM: 1.0035484363996054\n",
      "average VRF for 2nd order EVM: 1.4377105042573581\n",
      "average VRF for 1st order ESVM: 1.1114999418756277\n",
      "average VRF for 2nd order ESVM: 21.702576715320166\n"
     ]
    }
   ],
   "source": [
    "vars_vanilla = res_arr[:,1,0,:]\n",
    "vars_esvm_1st = res_arr[:,1,1,:]\n",
    "vars_esvm_2nd = res_arr[:,1,2,:]\n",
    "vars_evm_1st = res_arr[:,1,3,:]\n",
    "vars_evm_2nd = res_arr[:,1,4,:]\n",
    "print(\"average VRF for 1st order EVM:\",np.mean(vars_vanilla/vars_evm_1st))\n",
    "print(\"average VRF for 2nd order EVM:\",np.mean(vars_vanilla/vars_evm_2nd))\n",
    "print(\"average VRF for 1st order ESVM:\",np.mean(vars_vanilla/vars_esvm_1st))\n",
    "print(\"average VRF for 2nd order ESVM:\",np.mean(vars_vanilla/vars_esvm_2nd))"
   ]
  },
  {
   "cell_type": "code",
   "execution_count": null,
   "metadata": {},
   "outputs": [],
   "source": []
  }
 ],
 "metadata": {
  "kernelspec": {
   "display_name": "Python 3",
   "language": "python",
   "name": "python3"
  },
  "language_info": {
   "codemirror_mode": {
    "name": "ipython",
    "version": 3
   },
   "file_extension": ".py",
   "mimetype": "text/x-python",
   "name": "python",
   "nbconvert_exporter": "python",
   "pygments_lexer": "ipython3",
   "version": "3.10.13"
  }
 },
 "nbformat": 4,
 "nbformat_minor": 2
}
