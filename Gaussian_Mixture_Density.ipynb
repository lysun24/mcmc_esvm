{
 "cells": [
  {
   "cell_type": "code",
   "execution_count": 34,
   "metadata": {
    "ExecuteTime": {
     "end_time": "2024-02-12T22:03:02.674681300Z",
     "start_time": "2024-02-12T22:03:02.665665300Z"
    }
   },
   "outputs": [],
   "source": [
    "import numpy as np\n",
    "import scipy.stats as spstats\n",
    "from scipy import signal\n",
    "import pickle\n",
    "from multiprocessing import Pool\n",
    "import multiprocessing\n",
    "import scipy.sparse as sparse\n",
    "import seaborn as sns\n",
    "\n",
    "from potentials import GaussPotential,GaussMixture,GausMixtureIdent,GausMixtureSame,potentialRegression,BananaShape\n",
    "from baselines import GenerateSigma,construct_ESVM_kernel,set_function\n",
    "from optimize import Run_eval_test,optimize_parallel_new \n",
    "from samplers import MCMC_sampler,Generate_train\n",
    "from utils import *"
   ]
  },
  {
   "cell_type": "code",
   "execution_count": 35,
   "metadata": {
    "ExecuteTime": {
     "end_time": "2024-02-12T22:03:23.021485800Z",
     "start_time": "2024-02-12T22:03:23.014461400Z"
    }
   },
   "outputs": [],
   "source": [
    "N_b = 1*10**4 # Burn in period\n",
    "N_train = 1*10**5 # Number of samples on which we optimize\n",
    "N_test = 1*10**5 # Number of samples\n",
    "step = 0.1 # Step size\n",
    "n_traj_train = 1\n",
    "n_traj_test = 100 # Number of independent MCMC trajectories for test\n",
    "f_type = \"2nd_moment\""
   ]
  },
  {
   "cell_type": "code",
   "execution_count": 36,
   "metadata": {
    "ExecuteTime": {
     "end_time": "2024-02-12T22:03:26.413509900Z",
     "start_time": "2024-02-12T22:03:26.380827500Z"
    }
   },
   "outputs": [
    {
     "data": {
      "text/plain": [
       "'\\n%load_ext line_profiler\\n\\n%lprun -f construct_Eric_kernel construct_Eric_kernel(N_train)\\n'"
      ]
     },
     "execution_count": 36,
     "metadata": {},
     "output_type": "execute_result"
    }
   ],
   "source": [
    "\"\"\"\n",
    "%load_ext line_profiler\n",
    "\n",
    "%lprun -f construct_Eric_kernel construct_Eric_kernel(N_train)\n",
    "\"\"\""
   ]
  },
  {
   "cell_type": "markdown",
   "metadata": {},
   "source": [
    "The cell below is to certify the correctness of fft convolutions, add later to test.py"
   ]
  },
  {
   "cell_type": "code",
   "execution_count": 37,
   "metadata": {
    "ExecuteTime": {
     "end_time": "2024-02-12T22:03:27.990620900Z",
     "start_time": "2024-02-12T22:03:27.982598500Z"
    }
   },
   "outputs": [
    {
     "data": {
      "text/plain": [
       "'\\n#csr matrix\\nW_train_sparse = construct_Eric_kernel_sparse(N_train)\\n#just one column\\nc_fft = construct_Eric_kernel(N_train)\\nprint(c_fft.shape)\\n#time test\\nimport time\\nx = np.random.randn(N_train)\\nprint(x.shape)\\nstart_time = time.time()\\nres_dense = PWP(x,W_train_sparse)\\nprint(\"csr time = \",time.time()-start_time)\\nstart_time = time.time()\\nres_fft = PWP_fast(x,c_fft)\\nprint(\"fft time = \",time.time()-start_time)\\nprint(\"error: \",np.linalg.norm(res_fft - res_dense)/np.linalg.norm(x))\\n'"
      ]
     },
     "execution_count": 37,
     "metadata": {},
     "output_type": "execute_result"
    }
   ],
   "source": [
    "\"\"\"\n",
    "#csr matrix\n",
    "W_train_sparse = construct_Eric_kernel_sparse(N_train)\n",
    "#just one column\n",
    "c_fft = construct_Eric_kernel(N_train)\n",
    "print(c_fft.shape)\n",
    "#time test\n",
    "import time\n",
    "x = np.random.randn(N_train)\n",
    "print(x.shape)\n",
    "start_time = time.time()\n",
    "res_dense = PWP(x,W_train_sparse)\n",
    "print(\"csr time = \",time.time()-start_time)\n",
    "start_time = time.time()\n",
    "res_fft = PWP_fast(x,c_fft)\n",
    "print(\"fft time = \",time.time()-start_time)\n",
    "print(\"error: \",np.linalg.norm(res_fft - res_dense)/np.linalg.norm(x))\n",
    "\"\"\""
   ]
  },
  {
   "cell_type": "code",
   "execution_count": 38,
   "metadata": {
    "ExecuteTime": {
     "end_time": "2024-02-12T22:03:28.854565300Z",
     "start_time": "2024-02-12T22:03:28.843010400Z"
    }
   },
   "outputs": [],
   "source": [
    "method = {\"sampler\":\"RWM\",\"burn_type\":\"full\",\"main_type\":\"full\"} # Sampling method"
   ]
  },
  {
   "cell_type": "code",
   "execution_count": 39,
   "metadata": {
    "ExecuteTime": {
     "end_time": "2024-02-12T22:03:37.187365300Z",
     "start_time": "2024-02-12T22:03:30.164958Z"
    }
   },
   "outputs": [
    {
     "name": "stdout",
     "output_type": "stream",
     "text": [
      "[1.94283271 0.1       ]\n",
      "ncores =  12\n"
     ]
    },
    {
     "name": "stdout",
     "output_type": "stream",
     "text": [
      "accepted =  63968\n"
     ]
    }
   ],
   "source": [
    "d = 2\n",
    "mu = 0.5*np.array([1.0,1.0],dtype = float)\n",
    "Sigma = GenerateSigma(d,rand_seed = 777,eps = 0.1) #covariation matrix \n",
    "p = 0.5\n",
    "bn = 50\n",
    "W_train_spec = construct_ESVM_kernel(N_train, bn)\n",
    "W_test_spec = construct_ESVM_kernel(N_test, bn)\n",
    "Cur_pot = GausMixtureSame(Sigma,mu,p)\n",
    "# Cur_pot = GausMixtureIdent(mu,p)\n",
    "#sample for variance reduction\n",
    "seed = 777\n",
    "if method[\"sampler\"] == \"ULA\":\n",
    "    res = Generate_train(n_traj_train, method, Cur_pot, step, N_b, N_train, d)\n",
    "    res = np.asarray(res)\n",
    "    traj,traj_grad = res[:,0,:,:],res[:,1,:,:]\n",
    "else:\n",
    "    res = Generate_train(n_traj_train, method, Cur_pot, step, N_b, N_train, d)\n",
    "    traj = []\n",
    "    traj_grad = []\n",
    "    for i in range(len(res)):\n",
    "        traj.append(res[i][0])\n",
    "        traj_grad.append(res[i][1])\n",
    "        print(\"accepted = \",res[i][2])\n",
    "    traj = np.asarray(traj)\n",
    "    traj_grad = np.asarray(traj_grad)"
   ]
  },
  {
   "cell_type": "code",
   "execution_count": 40,
   "metadata": {
    "ExecuteTime": {
     "end_time": "2024-02-12T22:03:43.652665300Z",
     "start_time": "2024-02-12T22:03:43.637303800Z"
    }
   },
   "outputs": [],
   "source": [
    "if (f_type == \"posterior_mean\" or f_type == \"2nd_moment\"):\n",
    "    inds_arr = np.array([0]) # Taking the second index (not intercept)\n",
    "    params = None\n",
    "else:\n",
    "    params = {\"X\":X_test,\"Y\":Y_test}\n",
    "    inds_arr = np.array([0])\n",
    "    \n",
    "f_vals = set_function(f_type,traj,inds_arr,params)"
   ]
  },
  {
   "cell_type": "code",
   "execution_count": 41,
   "metadata": {
    "ExecuteTime": {
     "end_time": "2024-02-12T22:03:46.365989500Z",
     "start_time": "2024-02-12T22:03:46.357095700Z"
    }
   },
   "outputs": [],
   "source": [
    "n_restarts = 2 # Number of restarts during optimization\n",
    "sigma = 1 # Deviation of starting points\n",
    "tol = 1e-5 # Tolerance (for the norm of gradient)"
   ]
  },
  {
   "cell_type": "code",
   "execution_count": 42,
   "metadata": {
    "ExecuteTime": {
     "end_time": "2024-02-12T22:03:46.766731100Z",
     "start_time": "2024-02-12T22:03:46.751210500Z"
    }
   },
   "outputs": [],
   "source": [
    "optim_structure = {\n",
    "    \"W\":W_train_spec,\n",
    "    \"n_restarts\":n_restarts,\n",
    "    \"tol\":tol,\n",
    "    \"sigma\":sigma,\n",
    "    \"alpha\":0.5,\n",
    "    \"beta\":0.5\n",
    "}\n",
    "methods = [\"ESVM\",\"EVM\", \"LS\"]"
   ]
  },
  {
   "cell_type": "code",
   "execution_count": 43,
   "metadata": {
    "ExecuteTime": {
     "end_time": "2024-02-12T22:04:06.068114500Z",
     "start_time": "2024-02-12T22:03:47.213418900Z"
    }
   },
   "outputs": [
    {
     "name": "stdout",
     "output_type": "stream",
     "text": [
      "3\n"
     ]
    }
   ],
   "source": [
    "result_1= optimize_parallel_new(1,inds_arr,f_vals,traj,traj_grad,optim_structure,methods)\n",
    "result_2= optimize_parallel_new(2,inds_arr,f_vals,traj,traj_grad,optim_structure,methods)"
   ]
  },
  {
   "cell_type": "markdown",
   "metadata": {},
   "source": [
    "## Coefficients for control variates"
   ]
  },
  {
   "cell_type": "code",
   "execution_count": 44,
   "metadata": {
    "ExecuteTime": {
     "end_time": "2024-02-12T22:04:20.727171100Z",
     "start_time": "2024-02-12T22:04:20.720034Z"
    }
   },
   "outputs": [
    {
     "name": "stdout",
     "output_type": "stream",
     "text": [
      "Coefficients for ESVM\n",
      "[[0.09552707 0.06950804]]\n",
      "Coefficients for EVM\n",
      "[[-0.0081859   0.01170278]]\n",
      "Coefficients for LS\n",
      "[[-0.00894367  0.01567669]]\n"
     ]
    }
   ],
   "source": [
    "print(\"Coefficients for ESVM\")\n",
    "print(result_1[\"ESVM\"])\n",
    "print(\"Coefficients for EVM\")\n",
    "print(result_1[\"EVM\"])\n",
    "print(\"Coefficients for LS\")\n",
    "print(result_1[\"LS\"])"
   ]
  },
  {
   "cell_type": "code",
   "execution_count": 45,
   "metadata": {
    "ExecuteTime": {
     "end_time": "2024-02-12T22:04:21.301719Z",
     "start_time": "2024-02-12T22:04:21.258871200Z"
    }
   },
   "outputs": [
    {
     "name": "stdout",
     "output_type": "stream",
     "text": [
      "Coefficients for ESVM\n",
      "[[ 0.02591666  0.01572684  0.57737565 -0.2522534  -0.2522534   0.06518775]]\n",
      "Coefficients for EVM\n",
      "[[ 0.00677592 -0.00146871  0.47028373 -0.26616244 -0.26616244  0.18031971]]\n",
      "Coefficients for LS\n",
      "[[ 0.01616765 -0.00557214  0.47497729 -0.26733909 -0.26733909  0.18403491]]\n"
     ]
    }
   ],
   "source": [
    "print(\"Coefficients for ESVM\")\n",
    "print(result_2[\"ESVM\"])\n",
    "print(\"Coefficients for EVM\")\n",
    "print(result_2[\"EVM\"])\n",
    "print(\"Coefficients for LS\")\n",
    "print(result_2[\"LS\"])"
   ]
  },
  {
   "cell_type": "markdown",
   "metadata": {},
   "source": [
    "### Test "
   ]
  },
  {
   "cell_type": "code",
   "execution_count": 46,
   "metadata": {
    "ExecuteTime": {
     "end_time": "2024-02-12T22:04:24.215292600Z",
     "start_time": "2024-02-12T22:04:24.207445300Z"
    }
   },
   "outputs": [],
   "source": [
    "\"\"\"W_spec = test_dict[\"W\"]\n",
    "    step = test_dict[\"step\"]\n",
    "    N_burn = test_dict[\"burn_in\"]\n",
    "    N_test = test_dict[\"n_test\"]\n",
    "    d = test_dict[\"dim\"]\"\"\"\n",
    "\n",
    "test_dict = {\n",
    "    \"W\":W_test_spec,\n",
    "    \"step\":step,\n",
    "    \"burn_in\":N_b,\n",
    "    \"n_test\":N_test,\n",
    "    \"dim\":d\n",
    "}"
   ]
  },
  {
   "cell_type": "code",
   "execution_count": 48,
   "metadata": {
    "ExecuteTime": {
     "end_time": "2024-02-12T22:06:38.141967100Z",
     "start_time": "2024-02-12T22:04:26.109757300Z"
    }
   },
   "outputs": [],
   "source": [
    "# Create a dictionary, put respective matrices into it\n",
    "CV_dict = {\"ZAV\":[result_1[\"ESVM\"],result_2[\"ESVM\"]],\"ZV\":[result_1[\"EVM\"],result_2[\"EVM\"]],\"LS\":[result_1[\"LS\"],result_2[\"LS\"]]}\n",
    "# Number of cores exploited for the computation of the independent trajectories\n",
    "# by deault, all available cores on the machine\n",
    "nbcores = multiprocessing.cpu_count()\n",
    "trav = Pool(nbcores)\n",
    "res = trav.starmap(Run_eval_test, [(i,method,inds_arr,Cur_pot,W_test_spec,CV_dict,step,N_b,N_test,d,params,f_type) for i in range (n_traj_test)])\n",
    "trav.close()\n",
    "res_arr = np.asarray(res) # Saving results as np.array"
   ]
  },
  {
   "cell_type": "markdown",
   "metadata": {},
   "source": [
    "### Results"
   ]
  },
  {
   "cell_type": "code",
   "execution_count": 49,
   "metadata": {},
   "outputs": [
    {
     "name": "stdout",
     "output_type": "stream",
     "text": [
      "Estimators\n",
      "Vanilla MC [1.51773108]\n",
      "ESVM pol=1 [1.51798561]\n",
      "ESVM pol=2 [1.51563472]\n",
      "EVM pol=1 [1.51772332]\n",
      "EVM pol=2 [1.51645012]\n",
      "LS pol=1 [1.51772332]\n",
      "LS pol=2 [1.51645012]\n"
     ]
    }
   ],
   "source": [
    "print(\"Estimators\")\n",
    "print(\"Vanilla MC {}\".format(np.mean(res_arr[:,0,0,:],axis=0)))\n",
    "print(\"ESVM pol=1 {}\".format(np.mean(res_arr[:,0,1,:],axis=0)))\n",
    "print(\"ESVM pol=2 {}\".format(np.mean(res_arr[:,0,2,:],axis=0)))\n",
    "print(\"EVM pol=1 {}\".format(np.mean(res_arr[:,0,3,:],axis=0)))\n",
    "print(\"EVM pol=2 {}\".format(np.mean(res_arr[:,0,4,:],axis=0)))\n",
    "print(\"LS pol=1 {}\".format(np.mean(res_arr[:,0,3,:],axis=0)))\n",
    "print(\"LS pol=2 {}\".format(np.mean(res_arr[:,0,4,:],axis=0)))"
   ]
  },
  {
   "cell_type": "code",
   "execution_count": 50,
   "metadata": {},
   "outputs": [
    {
     "name": "stdout",
     "output_type": "stream",
     "text": [
      "Variances\n",
      "Vanilla MC [142.18426895]\n",
      "ZAV pol=1 [142.91901808]\n",
      "ZAV pol=2 [9.31832897]\n",
      "ZV pol=1 [142.18854468]\n",
      "ZV pol=2 [15.29852796]\n",
      "LS pol=1 [142.19329035]\n",
      "LS pol=2 [15.22581734]\n"
     ]
    }
   ],
   "source": [
    "print(\"Variances\")\n",
    "print(\"Vanilla MC {}\".format(np.mean(res_arr[:,1,0,:],axis=0)))\n",
    "print(\"ZAV pol=1 {}\".format(np.mean(res_arr[:,1,1,:],axis=0)))\n",
    "print(\"ZAV pol=2 {}\".format(np.mean(res_arr[:,1,2,:],axis=0)))\n",
    "print(\"ZV pol=1 {}\".format(np.mean(res_arr[:,1,3,:],axis=0)))\n",
    "print(\"ZV pol=2 {}\".format(np.mean(res_arr[:,1,4,:],axis=0)))\n",
    "print(\"LS pol=1 {}\".format(np.mean(res_arr[:,1,5,:],axis=0)))\n",
    "print(\"LS pol=2 {}\".format(np.mean(res_arr[:,1,6,:],axis=0)))"
   ]
  },
  {
   "cell_type": "code",
   "execution_count": 51,
   "metadata": {},
   "outputs": [],
   "source": [
    "np.save(\"Results/GMM_RWM_bn_20_gaussmix_2.npy\",res_arr)"
   ]
  },
  {
   "cell_type": "markdown",
   "metadata": {},
   "source": [
    "### Plot results"
   ]
  },
  {
   "cell_type": "code",
   "execution_count": 57,
   "metadata": {},
   "outputs": [],
   "source": [
    "results = np.load(\"Results/GMM_ULA_bn_20_gaussmix.npy\")\n",
    "method = 'RWM'"
   ]
  },
  {
   "cell_type": "code",
   "execution_count": 61,
   "metadata": {},
   "outputs": [],
   "source": [
    "results = np.load(\"Results/GMM_ULA_bn_20_gaussmixIdent.npy\")\n",
    "method = \"ULA\""
   ]
  },
  {
   "cell_type": "code",
   "execution_count": 65,
   "metadata": {},
   "outputs": [
    {
     "name": "stdout",
     "output_type": "stream",
     "text": [
      "Estimators\n",
      "Vanilla MC [1.29924898]\n",
      "ESVM pol=1 [1.29891897]\n",
      "ESVM pol=2 [1.24944286]\n",
      "EVM pol=1 [1.29921495]\n",
      "EVM pol=2 [1.249393]\n",
      "LS pol=1 [1.29921495]\n",
      "LS pol=2 [1.249393]\n"
     ]
    }
   ],
   "source": [
    "print(\"Estimators\")\n",
    "print(\"Vanilla MC {}\".format(np.mean(results[:,0,0,:],axis=0)))\n",
    "print(\"ESVM pol=1 {}\".format(np.mean(results[:,0,1,:],axis=0)))\n",
    "print(\"ESVM pol=2 {}\".format(np.mean(results[:,0,2,:],axis=0)))\n",
    "print(\"EVM pol=1 {}\".format(np.mean(results[:,0,3,:],axis=0)))\n",
    "print(\"EVM pol=2 {}\".format(np.mean(results[:,0,4,:],axis=0)))\n",
    "print(\"LS pol=1 {}\".format(np.mean(results[:,0,3,:],axis=0)))\n",
    "print(\"LS pol=2 {}\".format(np.mean(results[:,0,4,:],axis=0)))"
   ]
  },
  {
   "cell_type": "code",
   "execution_count": 66,
   "metadata": {},
   "outputs": [
    {
     "name": "stdout",
     "output_type": "stream",
     "text": [
      "0.04985598000000002\n"
     ]
    }
   ],
   "source": [
    "print(1.29924898 - 1.249393)"
   ]
  },
  {
   "cell_type": "code",
   "execution_count": 63,
   "metadata": {},
   "outputs": [],
   "source": [
    "var_ind = 0 #Index to plot\n",
    "title = \"\"\n",
    "labels = [f'Vanilla\\n {method}', f'{method} \\nwith EVM',f'{method}\\nwith ESVM']"
   ]
  },
  {
   "cell_type": "code",
   "execution_count": 68,
   "metadata": {},
   "outputs": [
    {
     "data": {
      "image/png": "[encoded data removed]",
      "text/plain": [
       "<Figure size 500x400 with 1 Axes>"
      ]
     },
     "metadata": {},
     "output_type": "display_data"
    }
   ],
   "source": [
    "# Box plot\n",
    "data = [results[:,0,0,var_ind],results[:,0,4,var_ind],results[:,0,2,var_ind]] \n",
    "boxplot_ind(data, title, labels)"
   ]
  },
  {
   "cell_type": "code",
   "execution_count": 47,
   "metadata": {},
   "outputs": [],
   "source": [
    "var_ind = 0 #Index to plot\n",
    "title = \"\"\n",
    "labels = ['{method} \\nwith EVM','{method}\\nwith ESVM']"
   ]
  },
  {
   "cell_type": "code",
   "execution_count": 30,
   "metadata": {},
   "outputs": [
    {
     "data": {
      "image/png": "[encoded data removed]",
      "text/plain": [
       "<Figure size 500x400 with 1 Axes>"
      ]
     },
     "metadata": {},
     "output_type": "display_data"
    }
   ],
   "source": [
    "data = [results[:,0,3,var_ind],results[:,0,1,var_ind]] \n",
    "boxplot_ind(data, title, labels)"
   ]
  },
  {
   "cell_type": "code",
   "execution_count": 70,
   "metadata": {},
   "outputs": [
    {
     "name": "stdout",
     "output_type": "stream",
     "text": [
      "average VRF for 1st order EVM: 0.9999699291925771\n",
      "average VRF for 2nd order EVM: 9.293982826109502\n",
      "average VRF for 1st order ESVM: 0.9948589828269311\n",
      "average VRF for 2nd order ESVM: 15.258558638576218\n"
     ]
    }
   ],
   "source": [
    "vars_vanilla = results[:,1,0,:]\n",
    "vars_esvm_1st = results[:,1,1,:]\n",
    "vars_esvm_2nd = results[:,1,2,:]\n",
    "vars_evm_1st = results[:,1,3,:]\n",
    "vars_evm_2nd = results[:,1,4,:]\n",
    "print(\"average VRF for 1st order EVM:\",np.mean(vars_vanilla)/np.mean(vars_evm_1st))\n",
    "print(\"average VRF for 2nd order EVM:\",np.mean(vars_vanilla)/np.mean(vars_evm_2nd))\n",
    "print(\"average VRF for 1st order ESVM:\",np.mean(vars_vanilla)/np.mean(vars_esvm_1st))\n",
    "print(\"average VRF for 2nd order ESVM:\",np.mean(vars_vanilla)/np.mean(vars_esvm_2nd))"
   ]
  },
  {
   "cell_type": "code",
   "execution_count": null,
   "metadata": {},
   "outputs": [],
   "source": []
  }
 ],
 "metadata": {
  "kernelspec": {
   "display_name": "Python 3",
   "language": "python",
   "name": "python3"
  },
  "language_info": {
   "codemirror_mode": {
    "name": "ipython",
    "version": 3
   },
   "file_extension": ".py",
   "mimetype": "text/x-python",
   "name": "python",
   "nbconvert_exporter": "python",
   "pygments_lexer": "ipython3",
   "version": "3.10.13"
  }
 },
 "nbformat": 4,
 "nbformat_minor": 2
}
